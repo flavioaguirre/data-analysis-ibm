{
 "cells": [
  {
   "cell_type": "markdown",
   "id": "8e8858a1",
   "metadata": {},
   "source": [
    "<p style=\"text-align:center\"> \n",
    "<a href=\"https://skills.network\" target=\"_blank\"> \n",
    "<img src=\"https://cf-courses-data.s3.us.cloud-object-storage.appdomain.cloud/assets/logos/SN_web_lightmode.png\" width=\"300\" alt=\"Skills Network Logo\"> \n",
    "</a>\n",
    "</p>\n",
    "\n",
    "# <h1 align=\"center\"><font size=\"7\"><strong>Final project</strong></font></h1>\n",
    "## <h2 align= \"center\"><font size=\"6.8\">**Homes for sale in King County, USA**</font></h2>"
   ]
  },
  {
   "cell_type": "markdown",
   "id": "127240f3",
   "metadata": {},
   "source": [
    "<hr>"
   ]
  },
  {
   "cell_type": "markdown",
   "id": "4d19f0a3",
   "metadata": {},
   "source": [
    "# Part 4: Model Development"
   ]
  },
  {
   "cell_type": "markdown",
   "id": "df111aa7",
   "metadata": {},
   "source": [
    "Once we understand the relationships between our variables, we can begin to develop a model to obtain the estimating equation for the price of a house based on certain specific characteristics."
   ]
  },
  {
   "cell_type": "markdown",
   "id": "e9571c79",
   "metadata": {},
   "source": [
    "First, let's separate the data into different samples (training data, test data, and validation data).\n",
    "\n",
    "We import the following module to separate our data:"
   ]
  },
  {
   "cell_type": "code",
   "execution_count": null,
   "id": "148bf4ae",
   "metadata": {},
   "outputs": [],
   "source": [
    "%pip install xgboost"
   ]
  },
  {
   "cell_type": "code",
   "execution_count": 28,
   "id": "fdae1ead",
   "metadata": {},
   "outputs": [],
   "source": [
    "import pandas as pd\n",
    "import numpy as np\n",
    "from matplotlib import pyplot as plt\n",
    "import seaborn as sns\n",
    "from sklearn.pipeline import Pipeline\n",
    "from sklearn.preprocessing import StandardScaler, PolynomialFeatures\n",
    "from sklearn.model_selection import train_test_split\n",
    "from sklearn.linear_model import LinearRegression, Lasso\n",
    "from sklearn.ensemble import RandomForestRegressor\n",
    "from sklearn.tree import DecisionTreeRegressor\n",
    "from sklearn.neighbors import KNeighborsRegressor\n",
    "from xgboost import XGBRegressor\n",
    "from sklearn.svm import SVR\n",
    "from sklearn.model_selection import GridSearchCV\n",
    "from sklearn.metrics import mean_absolute_error, mean_squared_error, r2_score\n",
    "\n",
    "import warnings\n",
    "warnings.filterwarnings('ignore')"
   ]
  },
  {
   "cell_type": "code",
   "execution_count": 2,
   "id": "0f5f587d",
   "metadata": {},
   "outputs": [],
   "source": [
    "df = pd.read_csv('../data/processed/data_clean.csv')"
   ]
  },
  {
   "cell_type": "code",
   "execution_count": 3,
   "id": "0b2917a6",
   "metadata": {},
   "outputs": [
    {
     "data": {
      "application/vnd.microsoft.datawrangler.viewer.v0+json": {
       "columns": [
        {
         "name": "index",
         "rawType": "int64",
         "type": "integer"
        },
        {
         "name": "price",
         "rawType": "float64",
         "type": "float"
        },
        {
         "name": "bedrooms",
         "rawType": "float64",
         "type": "float"
        },
        {
         "name": "bathrooms",
         "rawType": "float64",
         "type": "float"
        },
        {
         "name": "sqft_living",
         "rawType": "int64",
         "type": "integer"
        },
        {
         "name": "sqft_lot",
         "rawType": "int64",
         "type": "integer"
        },
        {
         "name": "floors",
         "rawType": "float64",
         "type": "float"
        },
        {
         "name": "waterfront",
         "rawType": "int64",
         "type": "integer"
        },
        {
         "name": "view",
         "rawType": "int64",
         "type": "integer"
        },
        {
         "name": "condition",
         "rawType": "int64",
         "type": "integer"
        },
        {
         "name": "grade",
         "rawType": "int64",
         "type": "integer"
        },
        {
         "name": "sqft_above",
         "rawType": "int64",
         "type": "integer"
        },
        {
         "name": "sqft_basement",
         "rawType": "int64",
         "type": "integer"
        },
        {
         "name": "yr_built",
         "rawType": "int64",
         "type": "integer"
        },
        {
         "name": "yr_renovated",
         "rawType": "int64",
         "type": "integer"
        },
        {
         "name": "zipcode",
         "rawType": "int64",
         "type": "integer"
        },
        {
         "name": "lat",
         "rawType": "float64",
         "type": "float"
        },
        {
         "name": "long",
         "rawType": "float64",
         "type": "float"
        },
        {
         "name": "sqft_living15",
         "rawType": "int64",
         "type": "integer"
        },
        {
         "name": "sqft_lot15",
         "rawType": "int64",
         "type": "integer"
        }
       ],
       "conversionMethod": "pd.DataFrame",
       "ref": "67d73b15-f75c-40c2-8722-4f5c6661d714",
       "rows": [
        [
         "0",
         "221900.0",
         "3.0",
         "1.0",
         "1180",
         "5650",
         "1.0",
         "0",
         "0",
         "3",
         "7",
         "1180",
         "0",
         "1955",
         "0",
         "98178",
         "47.5112",
         "-122.257",
         "1340",
         "5650"
        ],
        [
         "1",
         "538000.0",
         "3.0",
         "2.25",
         "2570",
         "7242",
         "2.0",
         "0",
         "0",
         "3",
         "7",
         "2170",
         "400",
         "1951",
         "1991",
         "98125",
         "47.721",
         "-122.319",
         "1690",
         "7639"
        ],
        [
         "2",
         "180000.0",
         "2.0",
         "1.0",
         "770",
         "10000",
         "1.0",
         "0",
         "0",
         "3",
         "6",
         "770",
         "0",
         "1933",
         "0",
         "98028",
         "47.7379",
         "-122.233",
         "2720",
         "8062"
        ],
        [
         "3",
         "604000.0",
         "4.0",
         "3.0",
         "1960",
         "5000",
         "1.0",
         "0",
         "0",
         "5",
         "7",
         "1050",
         "910",
         "1965",
         "0",
         "98136",
         "47.5208",
         "-122.393",
         "1360",
         "5000"
        ],
        [
         "4",
         "510000.0",
         "3.0",
         "2.0",
         "1680",
         "8080",
         "1.0",
         "0",
         "0",
         "3",
         "8",
         "1680",
         "0",
         "1987",
         "0",
         "98074",
         "47.6168",
         "-122.045",
         "1800",
         "7503"
        ]
       ],
       "shape": {
        "columns": 19,
        "rows": 5
       }
      },
      "text/html": [
       "<div>\n",
       "<style scoped>\n",
       "    .dataframe tbody tr th:only-of-type {\n",
       "        vertical-align: middle;\n",
       "    }\n",
       "\n",
       "    .dataframe tbody tr th {\n",
       "        vertical-align: top;\n",
       "    }\n",
       "\n",
       "    .dataframe thead th {\n",
       "        text-align: right;\n",
       "    }\n",
       "</style>\n",
       "<table border=\"1\" class=\"dataframe\">\n",
       "  <thead>\n",
       "    <tr style=\"text-align: right;\">\n",
       "      <th></th>\n",
       "      <th>price</th>\n",
       "      <th>bedrooms</th>\n",
       "      <th>bathrooms</th>\n",
       "      <th>sqft_living</th>\n",
       "      <th>sqft_lot</th>\n",
       "      <th>floors</th>\n",
       "      <th>waterfront</th>\n",
       "      <th>view</th>\n",
       "      <th>condition</th>\n",
       "      <th>grade</th>\n",
       "      <th>sqft_above</th>\n",
       "      <th>sqft_basement</th>\n",
       "      <th>yr_built</th>\n",
       "      <th>yr_renovated</th>\n",
       "      <th>zipcode</th>\n",
       "      <th>lat</th>\n",
       "      <th>long</th>\n",
       "      <th>sqft_living15</th>\n",
       "      <th>sqft_lot15</th>\n",
       "    </tr>\n",
       "  </thead>\n",
       "  <tbody>\n",
       "    <tr>\n",
       "      <th>0</th>\n",
       "      <td>221900.0</td>\n",
       "      <td>3.0</td>\n",
       "      <td>1.00</td>\n",
       "      <td>1180</td>\n",
       "      <td>5650</td>\n",
       "      <td>1.0</td>\n",
       "      <td>0</td>\n",
       "      <td>0</td>\n",
       "      <td>3</td>\n",
       "      <td>7</td>\n",
       "      <td>1180</td>\n",
       "      <td>0</td>\n",
       "      <td>1955</td>\n",
       "      <td>0</td>\n",
       "      <td>98178</td>\n",
       "      <td>47.5112</td>\n",
       "      <td>-122.257</td>\n",
       "      <td>1340</td>\n",
       "      <td>5650</td>\n",
       "    </tr>\n",
       "    <tr>\n",
       "      <th>1</th>\n",
       "      <td>538000.0</td>\n",
       "      <td>3.0</td>\n",
       "      <td>2.25</td>\n",
       "      <td>2570</td>\n",
       "      <td>7242</td>\n",
       "      <td>2.0</td>\n",
       "      <td>0</td>\n",
       "      <td>0</td>\n",
       "      <td>3</td>\n",
       "      <td>7</td>\n",
       "      <td>2170</td>\n",
       "      <td>400</td>\n",
       "      <td>1951</td>\n",
       "      <td>1991</td>\n",
       "      <td>98125</td>\n",
       "      <td>47.7210</td>\n",
       "      <td>-122.319</td>\n",
       "      <td>1690</td>\n",
       "      <td>7639</td>\n",
       "    </tr>\n",
       "    <tr>\n",
       "      <th>2</th>\n",
       "      <td>180000.0</td>\n",
       "      <td>2.0</td>\n",
       "      <td>1.00</td>\n",
       "      <td>770</td>\n",
       "      <td>10000</td>\n",
       "      <td>1.0</td>\n",
       "      <td>0</td>\n",
       "      <td>0</td>\n",
       "      <td>3</td>\n",
       "      <td>6</td>\n",
       "      <td>770</td>\n",
       "      <td>0</td>\n",
       "      <td>1933</td>\n",
       "      <td>0</td>\n",
       "      <td>98028</td>\n",
       "      <td>47.7379</td>\n",
       "      <td>-122.233</td>\n",
       "      <td>2720</td>\n",
       "      <td>8062</td>\n",
       "    </tr>\n",
       "    <tr>\n",
       "      <th>3</th>\n",
       "      <td>604000.0</td>\n",
       "      <td>4.0</td>\n",
       "      <td>3.00</td>\n",
       "      <td>1960</td>\n",
       "      <td>5000</td>\n",
       "      <td>1.0</td>\n",
       "      <td>0</td>\n",
       "      <td>0</td>\n",
       "      <td>5</td>\n",
       "      <td>7</td>\n",
       "      <td>1050</td>\n",
       "      <td>910</td>\n",
       "      <td>1965</td>\n",
       "      <td>0</td>\n",
       "      <td>98136</td>\n",
       "      <td>47.5208</td>\n",
       "      <td>-122.393</td>\n",
       "      <td>1360</td>\n",
       "      <td>5000</td>\n",
       "    </tr>\n",
       "    <tr>\n",
       "      <th>4</th>\n",
       "      <td>510000.0</td>\n",
       "      <td>3.0</td>\n",
       "      <td>2.00</td>\n",
       "      <td>1680</td>\n",
       "      <td>8080</td>\n",
       "      <td>1.0</td>\n",
       "      <td>0</td>\n",
       "      <td>0</td>\n",
       "      <td>3</td>\n",
       "      <td>8</td>\n",
       "      <td>1680</td>\n",
       "      <td>0</td>\n",
       "      <td>1987</td>\n",
       "      <td>0</td>\n",
       "      <td>98074</td>\n",
       "      <td>47.6168</td>\n",
       "      <td>-122.045</td>\n",
       "      <td>1800</td>\n",
       "      <td>7503</td>\n",
       "    </tr>\n",
       "  </tbody>\n",
       "</table>\n",
       "</div>"
      ],
      "text/plain": [
       "      price  bedrooms  bathrooms  sqft_living  sqft_lot  floors  waterfront  \\\n",
       "0  221900.0       3.0       1.00         1180      5650     1.0           0   \n",
       "1  538000.0       3.0       2.25         2570      7242     2.0           0   \n",
       "2  180000.0       2.0       1.00          770     10000     1.0           0   \n",
       "3  604000.0       4.0       3.00         1960      5000     1.0           0   \n",
       "4  510000.0       3.0       2.00         1680      8080     1.0           0   \n",
       "\n",
       "   view  condition  grade  sqft_above  sqft_basement  yr_built  yr_renovated  \\\n",
       "0     0          3      7        1180              0      1955             0   \n",
       "1     0          3      7        2170            400      1951          1991   \n",
       "2     0          3      6         770              0      1933             0   \n",
       "3     0          5      7        1050            910      1965             0   \n",
       "4     0          3      8        1680              0      1987             0   \n",
       "\n",
       "   zipcode      lat     long  sqft_living15  sqft_lot15  \n",
       "0    98178  47.5112 -122.257           1340        5650  \n",
       "1    98125  47.7210 -122.319           1690        7639  \n",
       "2    98028  47.7379 -122.233           2720        8062  \n",
       "3    98136  47.5208 -122.393           1360        5000  \n",
       "4    98074  47.6168 -122.045           1800        7503  "
      ]
     },
     "execution_count": 3,
     "metadata": {},
     "output_type": "execute_result"
    }
   ],
   "source": [
    "df.head()"
   ]
  },
  {
   "cell_type": "markdown",
   "id": "2d3d0d2e",
   "metadata": {},
   "source": [
    "We divide the data into training, test and validation sets:"
   ]
  },
  {
   "cell_type": "code",
   "execution_count": 29,
   "id": "768f1782",
   "metadata": {},
   "outputs": [],
   "source": [
    "X = df[['sqft_living']]\n",
    "Y = df['price']\n",
    "\n",
    "def evaluate_regression_models(X, y, test_size=0.2, random_state=42):\n",
    "    # Split the data\n",
    "    X_train, X_test, y_train, y_test = train_test_split(X, y, test_size=test_size, random_state=random_state)\n",
    "\n",
    "    # Models to evaluate\n",
    "    models = {\n",
    "        \"Linear Regression\": LinearRegression(),\n",
    "        \"Lasso Regression (L1)\": Lasso(alpha=0.1),\n",
    "        \"Decision Tree\": DecisionTreeRegressor(random_state=random_state),\n",
    "        \"Random Forest\": RandomForestRegressor(random_state=random_state),\n",
    "        \"Support Vector Regression\": SVR(),\n",
    "        \"K-Nearest Neighbors\": KNeighborsRegressor(),\n",
    "        \"XGBoost\": XGBRegressor(random_state=random_state)\n",
    "    }\n",
    "\n",
    "    results = []\n",
    "\n",
    "    # Train and evaluate each model\n",
    "    for name, model in models.items():\n",
    "        model.fit(X_train, y_train)  # Fit the model\n",
    "        y_pred = model.predict(X_test)  # Make predictions\n",
    "\n",
    "        mae = mean_absolute_error(y_test, y_pred)\n",
    "        rmse = np.sqrt(mean_squared_error(y_test, y_pred))\n",
    "        r2 = r2_score(y_test, y_pred)\n",
    "\n",
    "        # Store the results\n",
    "        results.append({\n",
    "            \"Model\": name,\n",
    "            \"MAE\": mae,\n",
    "            \"RMSE\": rmse,\n",
    "            \"R2 Score\": r2\n",
    "        })\n",
    "\n",
    "    # Return the sorted results by RMSE\n",
    "    return pd.DataFrame(results).sort_values(by=\"RMSE\")"
   ]
  },
  {
   "cell_type": "code",
   "execution_count": 30,
   "id": "ac9d7d20",
   "metadata": {},
   "outputs": [
    {
     "name": "stdout",
     "output_type": "stream",
     "text": [
      "                       Model            MAE           RMSE  R2 Score\n",
      "6                    XGBoost  165352.247594  246739.413739  0.512308\n",
      "1      Lasso Regression (L1)  170870.786261  252029.740667  0.491170\n",
      "0          Linear Regression  170870.786277  252029.740668  0.491170\n",
      "3              Random Forest  168343.428823  256248.182112  0.473994\n",
      "2              Decision Tree  170120.593611  261662.193989  0.451533\n",
      "5        K-Nearest Neighbors  176919.756772  262332.935369  0.448717\n",
      "4  Support Vector Regression  219747.736216  362978.747862 -0.055435\n"
     ]
    }
   ],
   "source": [
    "print(evaluate_regression_models(X, Y))"
   ]
  },
  {
   "cell_type": "markdown",
   "id": "1e08d7a3",
   "metadata": {},
   "source": [
    "We created and fitted the model to our data to obtain the `Coefficient of Determination` using the test data."
   ]
  },
  {
   "cell_type": "markdown",
   "id": "032dc3b0",
   "metadata": {},
   "source": [
    "An R² (coefficient of determination) of 0.51 indicates that the model explains 51% of the variability in the dependent data as a function of the independent variables. While this doesn't necessarily mean the model is poor, there are reasons to believe it could be improved."
   ]
  },
  {
   "cell_type": "markdown",
   "id": "5f5d01d7",
   "metadata": {},
   "source": [
    "Now, we are going to use all the features and this time use different regression algorithms to compare the different results and find the best performance."
   ]
  },
  {
   "cell_type": "code",
   "execution_count": 31,
   "id": "ee11f882",
   "metadata": {},
   "outputs": [],
   "source": [
    "X = df[['sqft_living', 'sqft_lot', 'bedrooms', 'bathrooms', 'floors', 'waterfront', 'view', 'condition', 'grade', 'sqft_above', 'sqft_basement', 'yr_built', 'yr_renovated']]\n",
    "Y = df['price']"
   ]
  },
  {
   "cell_type": "code",
   "execution_count": 32,
   "id": "9c6f6d77",
   "metadata": {},
   "outputs": [],
   "source": [
    "def evaluate_regression_models(X, y, test_size=0.2, random_state=42):\n",
    "    # Split the data\n",
    "    X_train, X_test, y_train, y_test = train_test_split(X, y, test_size=test_size, random_state=random_state)\n",
    "\n",
    "    # Models to evaluate\n",
    "    models = {\n",
    "        \"Linear Regression\": LinearRegression(),\n",
    "        \"Lasso Regression (L1)\": Lasso(alpha=0.1),\n",
    "        \"Decision Tree\": DecisionTreeRegressor(random_state=random_state),\n",
    "        \"Random Forest\": RandomForestRegressor(random_state=random_state),\n",
    "        \"Support Vector Regression\": SVR(),\n",
    "        \"K-Nearest Neighbors\": KNeighborsRegressor(),\n",
    "        \"XGBoost\": XGBRegressor(random_state=random_state)\n",
    "    }\n",
    "\n",
    "    results = []\n",
    "\n",
    "    # Train and evaluate each model\n",
    "    for name, model in models.items():\n",
    "        model.fit(X_train, y_train)  # Fit the model\n",
    "        y_pred = model.predict(X_test)  # Make predictions\n",
    "\n",
    "        mae = mean_absolute_error(y_test, y_pred)\n",
    "        rmse = np.sqrt(mean_squared_error(y_test, y_pred))\n",
    "        r2 = r2_score(y_test, y_pred)\n",
    "\n",
    "        # Store the results\n",
    "        results.append({\n",
    "            \"Model\": name,\n",
    "            \"MAE\": mae,\n",
    "            \"RMSE\": rmse,\n",
    "            \"R2 Score\": r2\n",
    "        })\n",
    "\n",
    "    # Return the sorted results by RMSE\n",
    "    return pd.DataFrame(results).sort_values(by=\"RMSE\")\n"
   ]
  },
  {
   "cell_type": "code",
   "execution_count": 33,
   "id": "55c284da",
   "metadata": {},
   "outputs": [
    {
     "name": "stdout",
     "output_type": "stream",
     "text": [
      "                       Model            MAE           RMSE  R2 Score\n",
      "3              Random Forest  115583.976128  178454.927215  0.744891\n",
      "6                    XGBoost  118690.431786  179693.848951  0.741336\n",
      "1      Lasso Regression (L1)  134497.326922  206149.246421  0.659566\n",
      "0          Linear Regression  134497.339596  206149.304852  0.659566\n",
      "5        K-Nearest Neighbors  160978.677458  247851.798866  0.507900\n",
      "2              Decision Tree  159011.911642  252021.843763  0.491202\n",
      "4  Support Vector Regression  220730.705907  364160.594745 -0.062319\n"
     ]
    }
   ],
   "source": [
    "print(evaluate_regression_models(X, Y))"
   ]
  },
  {
   "cell_type": "markdown",
   "id": "c32282cf",
   "metadata": {},
   "source": [
    "### Pipeline or data pipeline"
   ]
  },
  {
   "cell_type": "markdown",
   "id": "c940bd19",
   "metadata": {},
   "source": [
    "We already saw that we were able to improve the R2 by using all the variables, which makes our model more accurate than fitting it to just one. But as always, we can improve it further by using a pipeline.\n",
    "\n",
    "This basically automates and links sequential processes so that the data passes from one step to another in an orderly and efficient manner without losing or truncating data."
   ]
  },
  {
   "cell_type": "code",
   "execution_count": null,
   "id": "9622ec18",
   "metadata": {},
   "outputs": [],
   "source": [
    "def evaluate_models_with_pipeline(X, y): \n",
    "    # Division of the dataset \n",
    "    X_train, X_test, y_train, y_test = train_test_split(X, y, test_size=0.2, random_state=42) \n",
    "\n",
    "    # Models and pipelines \n",
    "    models = { \n",
    "    \"Linear Regression\": Pipeline([ \n",
    "    (\"scaler\", StandardScaler()), \n",
    "    (\"model\", LinearRegression()) \n",
    "    ]), \n",
    "    \"Linear Regression (Poly)\": Pipeline([ \n",
    "    (\"scaler\", StandardScaler()), \n",
    "    (\"poly\", PolynomialFeatures(degree=2, include_bias=False)), \n",
    "    (\"model\", LinearRegression()) \n",
    "    ]), \n",
    "    \"Lasso\": Pipeline([ \n",
    "    (\"scaler\", StandardScaler()), \n",
    "    (\"model\", Lasso(alpha=0.1)) \n",
    "    ]), \n",
    "    \"Lasso (Poly)\": Pipeline([ \n",
    "    (\"scaler\", StandardScaler()), \n",
    "    (\"poly\", PolynomialFeatures(degree=2, include_bias=False)), \n",
    "    (\"model\", Lasso(alpha=0.1)) \n",
    "    ]), \n",
    "    \"KNN\": Pipeline([ \n",
    "    (\"scaler\", StandardScaler()), \n",
    "    (\"model\", KNeighborsRegressor()) \n",
    "    ]), \n",
    "    \"SVR\": Pipeline([ \n",
    "    (\"scaler\", StandardScaler()), \n",
    "    (\"model\", SVR()) \n",
    "    ]), \n",
    "    \"Decision Tree\": Pipeline([ \n",
    "    (\"scaler\", StandardScaler()), \n",
    "    (\"model\", DecisionTreeRegressor(random_state=42)) \n",
    "    ]), \n",
    "    \"Random Forest\": Pipeline([ \n",
    "    (\"scaler\", StandardScaler()), \n",
    "    (\"model\", RandomForestRegressor(random_state=42)) \n",
    "    ]), \n",
    "    \"XGBoost\": Pipeline([ \n",
    "    (\"scaler\", StandardScaler()), \n",
    "    (\"model\", XGBRegressor(random_state=42)) \n",
    "    ]) \n",
    "    } \n",
    "\n",
    "    results = [] \n",
    "\n",
    "    # Training, prediction and evaluation \n",
    "    for name, pipeline in models.items(): \n",
    "        pipeline.fit(X_train, y_train) \n",
    "        y_pred = pipeline.predict(X_test) \n",
    "\n",
    "        mae = mean_absolute_error(y_test, y_pred) \n",
    "        rmse = np.sqrt(mean_squared_error(y_test, y_pred)) \n",
    "        r2 = r2_score(y_test, y_pred) \n",
    "\n",
    "        results.append({ \n",
    "        \"Model\": name, \n",
    "        \"MAE\": mae, \n",
    "        \"RMSE\": rmse, \n",
    "        \"R2\": r2, \n",
    "        \"Pipeline\": pipeline \n",
    "        }) \n",
    "\n",
    "    # Results sorted by RMSE \n",
    "    results_df = pd.DataFrame(results).sort_values(\"RMSE\") \n",
    "\n",
    "    return results_df[[\"Model\", \"MAE\", \"RMSE\", \"R2\"]]"
   ]
  },
  {
   "cell_type": "code",
   "execution_count": 37,
   "id": "8bb7b3be",
   "metadata": {},
   "outputs": [
    {
     "name": "stdout",
     "output_type": "stream",
     "text": [
      "                      Model            MAE           RMSE        R2\n",
      "7             Random Forest  115588.837804  178333.500991  0.745238\n",
      "8                   XGBoost  118690.431786  179693.848951  0.741336\n",
      "1  Linear Regression (Poly)  125148.974702  189339.644386  0.712821\n",
      "3              Lasso (Poly)  125155.924272  189339.712971  0.712821\n",
      "4                       KNN  129793.162338  203895.945859  0.666968\n",
      "0         Linear Regression  134497.339596  206149.304852  0.659566\n",
      "2                     Lasso  134497.357740  206149.307683  0.659566\n",
      "6             Decision Tree  159503.223098  252150.177925  0.490684\n",
      "5                       SVR  220241.219285  363591.481095 -0.059001\n"
     ]
    }
   ],
   "source": [
    "print(evaluate_models_with_pipeline(X, Y))"
   ]
  },
  {
   "cell_type": "markdown",
   "id": "ca880f38",
   "metadata": {},
   "source": [
    "The improvement is practically insignificant, with the best model still being the ``Random forest``, which went from an R2 of ``0.744891`` to ``0.745238``."
   ]
  },
  {
   "cell_type": "markdown",
   "id": "641a0ad9",
   "metadata": {},
   "source": [
    "<hr>"
   ]
  },
  {
   "cell_type": "markdown",
   "id": "d720fd76",
   "metadata": {},
   "source": [
    "## Author\n",
    "\n",
    "<a href=\"https://www.linkedin.com/in/flavio-aguirre-12784a252/\">**Flavio Aguirre**</a><br>\n",
    "<a href=\"https://coursera.org/share/e27ae5af81b56f99a2aa85289b7cdd04\">***Data Scientist***</a>"
   ]
  }
 ],
 "metadata": {
  "kernelspec": {
   "display_name": ".venv",
   "language": "python",
   "name": "python3"
  },
  "language_info": {
   "codemirror_mode": {
    "name": "ipython",
    "version": 3
   },
   "file_extension": ".py",
   "mimetype": "text/x-python",
   "name": "python",
   "nbconvert_exporter": "python",
   "pygments_lexer": "ipython3",
   "version": "3.12.3"
  }
 },
 "nbformat": 4,
 "nbformat_minor": 5
}
