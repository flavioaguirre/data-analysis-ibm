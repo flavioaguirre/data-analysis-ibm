{
 "cells": [
  {
   "cell_type": "markdown",
   "id": "93bfc1ca",
   "metadata": {},
   "source": [
    "<p style=\"text-align:center\"> \n",
    "<a href=\"https://skills.network\" target=\"_blank\"> \n",
    "<img src=\"https://cf-courses-data.s3.us.cloud-object-storage.appdomain.cloud/assets/logos/SN_web_lightmode.png\" width=\"300\" alt=\"Skills Network Logo\"> \n",
    "</a>\n",
    "</p>\n",
    "\n",
    "# <h1 align=\"center\"><font size=\"7\"><strong>Final project</strong></font></h1>\n",
    "## <h2 align= \"center\"><font size=\"6.8\">Homes for sale in King County, USA</font></h2>"
   ]
  },
  {
   "cell_type": "markdown",
   "id": "187f9ea7",
   "metadata": {},
   "source": [
    "<h2>Table of contents</h2>\n",
    "<div class=\"alert alert-block alert-info\" style=\"margin-top: 20px\"> \n",
    "<ul> \n",
    "<li><a href=\"#Instructions\">Instructions</a></li> \n",
    "<li><a href=\"#About-the-Dataset\">About the Dataset</a></li> \n",
    "<li><a href=\"#Module-1:-Importing-Data-Sets\">Part 1: Importing the data </a></li> \n",
    "<li><a href=\"#Module-2:-Data-Wrangling\">Part 2: Data Manipulation</a> </li> \n",
    "<li><a href=\"#Module-3:-Exploratory-Data-Analysis\">Part 3: Exploratory Data Analysis (EDA)</a></li> \n",
    "<li><a href=\"#Module-4:-Model-Development\">Part 4: Model Development</a></li>\n",
    "<li><a href=\"#Module-5:-Model-Evaluation-and-Refinement\">Part 5: Model Evaluation and Refinement</a></li>\n",
    "</a></li>\n",
    "</div>\n",
    "\n",
    "<hr>"
   ]
  },
  {
   "cell_type": "markdown",
   "id": "0bc7b1fc",
   "metadata": {},
   "source": [
    "## Instrucciones"
   ]
  },
  {
   "cell_type": "markdown",
   "id": "1b331731",
   "metadata": {},
   "source": [
    "In this role, we are tasked with being a data analyst working for a real estate investment trust. The trust wants to begin investing in residential real estate, so we are tasked with determining the market price of a home, given a number of characteristics.\n",
    "\n",
    "* <strong>Objective</strong>:\n",
    "\n",
    "``Analyze and predict home prices using attributes or characteristics such as square footage (sqft), number of bedrooms, number of floors, etc.``\n"
   ]
  },
  {
   "cell_type": "markdown",
   "id": "e9cf5558",
   "metadata": {},
   "source": [
    "<hr>"
   ]
  },
  {
   "cell_type": "markdown",
   "id": "cae6ab89",
   "metadata": {},
   "source": [
    "## About the Dataset\n",
    "\n",
    "This dataset contains home sales prices in King County, which includes Seattle. It includes homes sold between May 2014 and May 2015. It was extracted from this [source](https://www.kaggle.com/harlfoxem/housesalesprediction?utm_medium=Exinfluencer&utm_source=Exinfluencer&utm_content=000026UJ&utm_term=10006555&utm_id=NA-SkillsNetwork-wwwcourseraorg-SkillsNetworkCoursesIBMDeveloperSkillsNetworkDA0101ENSkillsNetwork20235326-2022-01-01). It was also slightly modified for the purposes of this exercise."
   ]
  },
  {
   "cell_type": "markdown",
   "id": "7394561b",
   "metadata": {},
   "source": [
    "### Dataset variables"
   ]
  },
  {
   "cell_type": "markdown",
   "id": "60b413a3",
   "metadata": {},
   "source": [
    "| Variable | Description |\n",
    "| ------------- | ----------------------------------------------------------------------------------------------------------- |\n",
    "| id | A rating for a house |\n",
    "| date | Date the house sold |\n",
    "| price | Price of the house (this is our goal to predict) |\n",
    "| bedrooms | Number of bedrooms |\n",
    "| bathrooms | Number of bathrooms |\n",
    "| sqft_living | Square footage of the house |\n",
    "| sqft_lote | Square footage of the lot |\n",
    "| floors | Total floors (levels) in the house |\n",
    "| waterfront | House with an ocean view |\n",
    "| view | Has been viewed |\n",
    "| condition | How good the overall condition is |\n",
    "| grade | Overall rating given to the housing unit, according to the King County rating system |\n",
    "| sqft_above | Square footage of the house excluding the basement |\n",
    "| sqft_basement | Square footage of the basement |\n",
    "| yr_built | Year built |\n",
    "| yr_renovated | Year the house was renovated |\n",
    "| zipcode | Postal code |\n",
    "| lat | Latitude coordinate |\n",
    "| long | Longitude coordinate |\n",
    "| sqft_living15 | Living room area in 2015 (involves some renovations). This may or may not have affected the lot area. |\n",
    "| sqft_lot15 | Lot area in 2015 (involves some renovations) |"
   ]
  },
  {
   "cell_type": "markdown",
   "id": "53e4a8f5",
   "metadata": {},
   "source": [
    "<hr>"
   ]
  },
  {
   "cell_type": "markdown",
   "id": "32ae92a8",
   "metadata": {},
   "source": [
    "## Setup"
   ]
  },
  {
   "cell_type": "markdown",
   "id": "105160ec",
   "metadata": {},
   "source": [
    "For this work, we will use the following Python libraries:\n",
    "\n",
    "*   [`pandas`](https://pandas.pydata.org/?utm_medium=Exinfluencer&utm_source=Exinfluencer&utm_content=000026UJ&utm_term=10006555&utm_id=NA-SkillsNetwork-Channel-SkillsNetworkCoursesIBMML0187ENSkillsNetwork31430127-2021-01-01) to manage data.\n",
    "*   [`numpy`](https://numpy.org/?utm_medium=Exinfluencer&utm_source=Exinfluencer&utm_content=000026UJ&utm_term=10006555&utm_id=NA-SkillsNetwork-Channel-SkillsNetworkCoursesIBMML0187ENSkillsNetwork31430127-2021-01-01) for mathematical operations.\n",
    "*   [`scikit-learn`](https://scikit-learn.org/stable/?utm_medium=Exinfluencer&utm_source=Exinfluencer&utm_content=000026UJ&utm_term=10006555&utm_id=NA-SkillsNetwork-Channel-SkillsNetworkCoursesIBMML0187ENSkillsNetwork31430127-2021-01-01) for machine learning-related functions and the machine learning pipeline.\n",
    "*   [`seaborn`](https://seaborn.pydata.org/?utm_medium=Exinfluencer&utm_source=Exinfluencer&utm_content=000026UJ&utm_term=10006555&utm_id=NA-SkillsNetwork-Channel-SkillsNetworkCoursesIBMML0187ENSkillsNetwork31430127-2021-01-01) to visualize the data.\n",
    "*   [`matplotlib`](https://matplotlib.org/?utm_medium=Exinfluencer&utm_source=Exinfluencer&utm_content=000026UJ&utm_term=10006555&utm_id=NA-SkillsNetwork-Channel-SkillsNetworkCoursesIBMML0187ENSkillsNetwork31430127-2021-01-01) for additional plotting tools.\n"
   ]
  },
  {
   "cell_type": "markdown",
   "id": "e7b8c168",
   "metadata": {},
   "source": [
    "### **We install and import the mentioned libraries**"
   ]
  },
  {
   "cell_type": "code",
   "execution_count": null,
   "id": "10b32254",
   "metadata": {},
   "outputs": [],
   "source": [
    "# We install the libraries using a magic command\n",
    "%pip install pandas numpy matplotlib seaborn scikit-learn"
   ]
  },
  {
   "cell_type": "code",
   "execution_count": 2,
   "id": "5afdb3f7",
   "metadata": {},
   "outputs": [],
   "source": [
    "# We import the libraries\n",
    "import pandas as pd\n",
    "import matplotlib.pyplot as plt\n",
    "import numpy as np\n",
    "import seaborn as sns\n",
    "from sklearn.pipeline import Pipeline\n",
    "from sklearn.preprocessing import StandardScaler,PolynomialFeatures\n",
    "from sklearn.linear_model import LinearRegression\n",
    "\n",
    "import warnings\n",
    "warnings.filterwarnings('ignore')\n",
    "\n",
    "# To make visualizations run inside cells\n",
    "%matplotlib inline"
   ]
  }
 ],
 "metadata": {
  "kernelspec": {
   "display_name": ".venv",
   "language": "python",
   "name": "python3"
  },
  "language_info": {
   "codemirror_mode": {
    "name": "ipython",
    "version": 3
   },
   "file_extension": ".py",
   "mimetype": "text/x-python",
   "name": "python",
   "nbconvert_exporter": "python",
   "pygments_lexer": "ipython3",
   "version": "3.12.3"
  }
 },
 "nbformat": 4,
 "nbformat_minor": 5
}
